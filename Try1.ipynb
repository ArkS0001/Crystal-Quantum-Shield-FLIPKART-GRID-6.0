{
  "nbformat": 4,
  "nbformat_minor": 0,
  "metadata": {
    "colab": {
      "provenance": [],
      "authorship_tag": "ABX9TyNigLBTNSXHYOJQglseRlDj",
      "include_colab_link": true
    },
    "kernelspec": {
      "name": "python3",
      "display_name": "Python 3"
    },
    "language_info": {
      "name": "python"
    }
  },
  "cells": [
    {
      "cell_type": "markdown",
      "metadata": {
        "id": "view-in-github",
        "colab_type": "text"
      },
      "source": [
        "<a href=\"https://colab.research.google.com/github/ArkS0001/FLIPKART-GRID-6.0/blob/main/Try1.ipynb\" target=\"_parent\"><img src=\"https://colab.research.google.com/assets/colab-badge.svg\" alt=\"Open In Colab\"/></a>"
      ]
    },
    {
      "cell_type": "code",
      "execution_count": null,
      "metadata": {
        "colab": {
          "base_uri": "https://localhost:8080/"
        },
        "id": "6iGaTocgrVQa",
        "outputId": "b1caca56-e738-400b-98c3-e88a851bf420"
      },
      "outputs": [
        {
          "output_type": "stream",
          "name": "stdout",
          "text": [
            "Collecting pycryptodome\n",
            "  Downloading pycryptodome-3.20.0-cp35-abi3-manylinux_2_17_x86_64.manylinux2014_x86_64.whl.metadata (3.4 kB)\n",
            "Collecting pqcrypto\n",
            "  Downloading pqcrypto-0.1.3.tar.gz (1.4 MB)\n",
            "\u001b[2K     \u001b[90m━━━━━━━━━━━━━━━━━━━━━━━━━━━━━━━━━━━━━━━━\u001b[0m \u001b[32m1.4/1.4 MB\u001b[0m \u001b[31m7.1 MB/s\u001b[0m eta \u001b[36m0:00:00\u001b[0m\n",
            "\u001b[?25h  Installing build dependencies ... \u001b[?25l\u001b[?25hdone\n",
            "  Getting requirements to build wheel ... \u001b[?25l\u001b[?25hdone\n",
            "  Preparing metadata (pyproject.toml) ... \u001b[?25l\u001b[?25hdone\n",
            "Requirement already satisfied: cffi<2.0.0,>=1.14.2 in /usr/local/lib/python3.10/dist-packages (from pqcrypto) (1.17.0)\n",
            "Requirement already satisfied: pycparser in /usr/local/lib/python3.10/dist-packages (from cffi<2.0.0,>=1.14.2->pqcrypto) (2.22)\n",
            "Downloading pycryptodome-3.20.0-cp35-abi3-manylinux_2_17_x86_64.manylinux2014_x86_64.whl (2.1 MB)\n",
            "\u001b[2K   \u001b[90m━━━━━━━━━━━━━━━━━━━━━━━━━━━━━━━━━━━━━━━━\u001b[0m \u001b[32m2.1/2.1 MB\u001b[0m \u001b[31m34.9 MB/s\u001b[0m eta \u001b[36m0:00:00\u001b[0m\n",
            "\u001b[?25hBuilding wheels for collected packages: pqcrypto\n",
            "  Building wheel for pqcrypto (pyproject.toml) ... \u001b[?25l\u001b[?25hdone\n",
            "  Created wheel for pqcrypto: filename=pqcrypto-0.1.3-cp310-cp310-manylinux_2_35_x86_64.whl size=2119074 sha256=2b672a6858bc7d2a88e0495f25ddabd1a06dafaf15926ae0d48909e292899a9b\n",
            "  Stored in directory: /root/.cache/pip/wheels/89/13/4f/b2c678a9f6c473acb0d259d47c30387bab4f836f28dab19f1c\n",
            "Successfully built pqcrypto\n",
            "Installing collected packages: pycryptodome, pqcrypto\n",
            "Successfully installed pqcrypto-0.1.3 pycryptodome-3.20.0\n"
          ]
        }
      ],
      "source": [
        "pip install pycryptodome pqcrypto\n"
      ]
    },
    {
      "cell_type": "markdown",
      "source": [
        "Encryption and Decryption using Kyber"
      ],
      "metadata": {
        "id": "VvNbaPNJuEws"
      }
    },
    {
      "cell_type": "code",
      "source": [
        "from pqcrypto.kem.kyber512 import generate_keypair, encrypt, decrypt\n",
        "\n",
        "# Key Generation\n",
        "public_key, secret_key = generate_keypair()\n",
        "\n",
        "# Encryption on the client side (data to send to server)\n",
        "message = b\"Sensitive API data\"\n",
        "ciphertext, shared_secret_enc = encrypt(message, public_key)\n",
        "\n",
        "# Decryption on the server side\n",
        "decrypted_message, shared_secret_dec = decrypt(ciphertext, secret_key)\n",
        "\n",
        "print(f\"Original Message: {message}\")\n",
        "print(f\"Decrypted Message: {decrypted_message}\")\n"
      ],
      "metadata": {
        "colab": {
          "base_uri": "https://localhost:8080/",
          "height": 519
        },
        "id": "2gn356BqsbBU",
        "outputId": "5088a214-f0af-4853-d043-19c9bfeffb70"
      },
      "execution_count": null,
      "outputs": [
        {
          "output_type": "error",
          "ename": "ModuleNotFoundError",
          "evalue": "No module named 'pqcrypto._kem.kyber512'",
          "traceback": [
            "\u001b[0;31m---------------------------------------------------------------------------\u001b[0m",
            "\u001b[0;31mModuleNotFoundError\u001b[0m                       Traceback (most recent call last)",
            "\u001b[0;32m<ipython-input-2-afe82858fdf9>\u001b[0m in \u001b[0;36m<cell line: 1>\u001b[0;34m()\u001b[0m\n\u001b[0;32m----> 1\u001b[0;31m \u001b[0;32mfrom\u001b[0m \u001b[0mpqcrypto\u001b[0m\u001b[0;34m.\u001b[0m\u001b[0mkem\u001b[0m\u001b[0;34m.\u001b[0m\u001b[0mkyber512\u001b[0m \u001b[0;32mimport\u001b[0m \u001b[0mgenerate_keypair\u001b[0m\u001b[0;34m,\u001b[0m \u001b[0mencrypt\u001b[0m\u001b[0;34m,\u001b[0m \u001b[0mdecrypt\u001b[0m\u001b[0;34m\u001b[0m\u001b[0;34m\u001b[0m\u001b[0m\n\u001b[0m\u001b[1;32m      2\u001b[0m \u001b[0;34m\u001b[0m\u001b[0m\n\u001b[1;32m      3\u001b[0m \u001b[0;31m# Key Generation\u001b[0m\u001b[0;34m\u001b[0m\u001b[0;34m\u001b[0m\u001b[0m\n\u001b[1;32m      4\u001b[0m \u001b[0mpublic_key\u001b[0m\u001b[0;34m,\u001b[0m \u001b[0msecret_key\u001b[0m \u001b[0;34m=\u001b[0m \u001b[0mgenerate_keypair\u001b[0m\u001b[0;34m(\u001b[0m\u001b[0;34m)\u001b[0m\u001b[0;34m\u001b[0m\u001b[0;34m\u001b[0m\u001b[0m\n\u001b[1;32m      5\u001b[0m \u001b[0;34m\u001b[0m\u001b[0m\n",
            "\u001b[0;32m/usr/local/lib/python3.10/dist-packages/pqcrypto/kem/kyber512.py\u001b[0m in \u001b[0;36m<module>\u001b[0;34m\u001b[0m\n\u001b[0;32m----> 1\u001b[0;31m \u001b[0;32mfrom\u001b[0m \u001b[0;34m.\u001b[0m\u001b[0;34m.\u001b[0m\u001b[0m_kem\u001b[0m\u001b[0;34m.\u001b[0m\u001b[0mkyber512\u001b[0m \u001b[0;32mimport\u001b[0m \u001b[0mffi\u001b[0m \u001b[0;32mas\u001b[0m \u001b[0m__ffi\u001b[0m\u001b[0;34m,\u001b[0m \u001b[0mlib\u001b[0m \u001b[0;32mas\u001b[0m \u001b[0m__lib\u001b[0m\u001b[0;34m\u001b[0m\u001b[0;34m\u001b[0m\u001b[0m\n\u001b[0m\u001b[1;32m      2\u001b[0m \u001b[0;32mfrom\u001b[0m \u001b[0;34m.\u001b[0m\u001b[0mcommon\u001b[0m \u001b[0;32mimport\u001b[0m \u001b[0m_kem_generate_keypair_factory\u001b[0m\u001b[0;34m,\u001b[0m \u001b[0m_kem_encrypt_factory\u001b[0m\u001b[0;34m,\u001b[0m \u001b[0m_kem_decrypt_factory\u001b[0m\u001b[0;34m\u001b[0m\u001b[0;34m\u001b[0m\u001b[0m\n\u001b[1;32m      3\u001b[0m \u001b[0;34m\u001b[0m\u001b[0m\n\u001b[1;32m      4\u001b[0m \u001b[0mPUBLIC_KEY_SIZE\u001b[0m \u001b[0;34m=\u001b[0m \u001b[0m__lib\u001b[0m\u001b[0;34m.\u001b[0m\u001b[0mCRYPTO_PUBLICKEYBYTES\u001b[0m\u001b[0;34m\u001b[0m\u001b[0;34m\u001b[0m\u001b[0m\n\u001b[1;32m      5\u001b[0m \u001b[0mSECRET_KEY_SIZE\u001b[0m \u001b[0;34m=\u001b[0m \u001b[0m__lib\u001b[0m\u001b[0;34m.\u001b[0m\u001b[0mCRYPTO_SECRETKEYBYTES\u001b[0m\u001b[0;34m\u001b[0m\u001b[0;34m\u001b[0m\u001b[0m\n",
            "\u001b[0;31mModuleNotFoundError\u001b[0m: No module named 'pqcrypto._kem.kyber512'",
            "",
            "\u001b[0;31m---------------------------------------------------------------------------\u001b[0;32m\nNOTE: If your import is failing due to a missing package, you can\nmanually install dependencies using either !pip or !apt.\n\nTo view examples of installing some common dependencies, click the\n\"Open Examples\" button below.\n\u001b[0;31m---------------------------------------------------------------------------\u001b[0m\n"
          ],
          "errorDetails": {
            "actions": [
              {
                "action": "open_url",
                "actionText": "Open Examples",
                "url": "/notebooks/snippets/importing_libraries.ipynb"
              }
            ]
          }
        }
      ]
    },
    {
      "cell_type": "markdown",
      "source": [
        "Authentication using Dilithium"
      ],
      "metadata": {
        "id": "J4ldmEsnuHHp"
      }
    },
    {
      "cell_type": "code",
      "source": [
        "from pqcrypto.sign.dilithium2 import generate_keypair, sign, verify\n",
        "\n",
        "# Generate public/private keypair for authentication\n",
        "public_key, secret_key = generate_keypair()\n",
        "\n",
        "# Sign a message on the client side (message authentication)\n",
        "message = b\"API request data\"\n",
        "signature = sign(message, secret_key)\n",
        "\n",
        "# Verify signature on the server side\n",
        "try:\n",
        "    verified_message = verify(signature, public_key)\n",
        "    print(\"Message verified:\", verified_message == message)\n",
        "except Exception as e:\n",
        "    print(\"Verification failed:\", e)\n"
      ],
      "metadata": {
        "id": "wQaOW8Rpt46w"
      },
      "execution_count": null,
      "outputs": []
    },
    {
      "cell_type": "markdown",
      "source": [
        "Integrating in API"
      ],
      "metadata": {
        "id": "NaHEva8-uNL1"
      }
    },
    {
      "cell_type": "code",
      "source": [
        "from flask import Flask, request, jsonify\n",
        "from pqcrypto.kem.kyber512 import generate_keypair, encrypt, decrypt\n",
        "from pqcrypto.sign.dilithium2 import generate_keypair as gen_auth_keypair, sign, verify\n",
        "\n",
        "app = Flask(__name__)\n",
        "\n",
        "# Kyber keypair for encryption\n",
        "kyber_pub_key, kyber_priv_key = generate_keypair()\n",
        "\n",
        "# Dilithium keypair for signing\n",
        "dilithium_pub_key, dilithium_priv_key = gen_auth_keypair()\n",
        "\n",
        "@app.route('/secure-endpoint', methods=['POST'])\n",
        "def secure_endpoint():\n",
        "    # Data received from the client (assumed to be encrypted)\n",
        "    encrypted_data = request.json['encrypted_data']\n",
        "    signature = request.json['signature']\n",
        "\n",
        "    # Decrypt data\n",
        "    try:\n",
        "        decrypted_data, _ = decrypt(bytes.fromhex(encrypted_data), kyber_priv_key)\n",
        "    except Exception as e:\n",
        "        return jsonify({\"error\": \"Decryption failed\"}), 400\n",
        "\n",
        "    # Verify signature\n",
        "    try:\n",
        "        verified_message = verify(bytes.fromhex(signature), dilithium_pub_key)\n",
        "        if verified_message != decrypted_data:\n",
        "            return jsonify({\"error\": \"Verification failed\"}), 400\n",
        "    except Exception as e:\n",
        "        return jsonify({\"error\": \"Verification exception\"}), 400\n",
        "\n",
        "    return jsonify({\"message\": \"Data secure and authenticated\"}), 200\n",
        "\n",
        "if __name__ == '__main__':\n",
        "    app.run(debug=True)\n"
      ],
      "metadata": {
        "id": "jKj94j9lt9fS"
      },
      "execution_count": null,
      "outputs": []
    },
    {
      "cell_type": "markdown",
      "source": [
        "Workflow:\n",
        "\n",
        "    Client Side:\n",
        "        Encrypt the API request data using Kyber’s public key.\n",
        "        Sign the encrypted data using Dilithium’s private key.\n",
        "        Send the encrypted data and signature to the server.\n",
        "\n",
        "    Server Side:\n",
        "        Decrypt the encrypted data using Kyber’s private key.\n",
        "        Verify the signature using Dilithium’s public key to ensure data integrity and authenticity.\n",
        "\n",
        "Example Client Request"
      ],
      "metadata": {
        "id": "Ap2pDSLFuSzE"
      }
    },
    {
      "cell_type": "code",
      "source": [
        "import requests\n",
        "from pqcrypto.kem.kyber512 import encrypt\n",
        "from pqcrypto.sign.dilithium2 import sign\n",
        "\n",
        "message = b\"Sensitive API request data\"\n",
        "\n",
        "# Encrypt with server's public key\n",
        "ciphertext, _ = encrypt(message, kyber_pub_key)\n",
        "\n",
        "# Sign the message\n",
        "signature = sign(ciphertext, dilithium_priv_key)\n",
        "\n",
        "# Send to server\n",
        "response = requests.post(\n",
        "    'http://localhost:5000/secure-endpoint',\n",
        "    json={\n",
        "        'encrypted_data': ciphertext.hex(),\n",
        "        'signature': signature.hex(),\n",
        "    }\n",
        ")\n",
        "\n",
        "print(response.json())\n"
      ],
      "metadata": {
        "id": "tHP9ZXznuAts"
      },
      "execution_count": null,
      "outputs": []
    }
  ]
}