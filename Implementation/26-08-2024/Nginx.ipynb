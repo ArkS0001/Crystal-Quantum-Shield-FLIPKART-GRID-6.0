{
  "nbformat": 4,
  "nbformat_minor": 0,
  "metadata": {
    "colab": {
      "provenance": []
    },
    "kernelspec": {
      "name": "python3",
      "display_name": "Python 3"
    },
    "language_info": {
      "name": "python"
    }
  },
  "cells": [
    {
      "cell_type": "code",
      "execution_count": 2,
      "metadata": {
        "colab": {
          "base_uri": "https://localhost:8080/"
        },
        "id": "Ot1_cGTzKtT0",
        "outputId": "dac386fa-7699-4400-d39f-5eadf93c4147"
      },
      "outputs": [
        {
          "output_type": "stream",
          "name": "stdout",
          "text": [
            "Requirement already satisfied: flask in /usr/local/lib/python3.10/dist-packages (2.2.5)\n",
            "Requirement already satisfied: flask-limiter in /usr/local/lib/python3.10/dist-packages (3.8.0)\n",
            "Requirement already satisfied: pyngrok in /usr/local/lib/python3.10/dist-packages (7.2.0)\n",
            "Requirement already satisfied: Werkzeug>=2.2.2 in /usr/local/lib/python3.10/dist-packages (from flask) (3.0.3)\n",
            "Requirement already satisfied: Jinja2>=3.0 in /usr/local/lib/python3.10/dist-packages (from flask) (3.1.4)\n",
            "Requirement already satisfied: itsdangerous>=2.0 in /usr/local/lib/python3.10/dist-packages (from flask) (2.2.0)\n",
            "Requirement already satisfied: click>=8.0 in /usr/local/lib/python3.10/dist-packages (from flask) (8.1.7)\n",
            "Requirement already satisfied: limits>=3.13 in /usr/local/lib/python3.10/dist-packages (from flask-limiter) (3.13.0)\n",
            "Requirement already satisfied: ordered-set<5,>4 in /usr/local/lib/python3.10/dist-packages (from flask-limiter) (4.1.0)\n",
            "Requirement already satisfied: rich<14,>=12 in /usr/local/lib/python3.10/dist-packages (from flask-limiter) (13.7.1)\n",
            "Requirement already satisfied: typing-extensions>=4 in /usr/local/lib/python3.10/dist-packages (from flask-limiter) (4.12.2)\n",
            "Requirement already satisfied: PyYAML>=5.1 in /usr/local/lib/python3.10/dist-packages (from pyngrok) (6.0.2)\n",
            "Requirement already satisfied: MarkupSafe>=2.0 in /usr/local/lib/python3.10/dist-packages (from Jinja2>=3.0->flask) (2.1.5)\n",
            "Requirement already satisfied: deprecated>=1.2 in /usr/local/lib/python3.10/dist-packages (from limits>=3.13->flask-limiter) (1.2.14)\n",
            "Requirement already satisfied: importlib-resources>=1.3 in /usr/local/lib/python3.10/dist-packages (from limits>=3.13->flask-limiter) (6.4.3)\n",
            "Requirement already satisfied: packaging<25,>=21 in /usr/local/lib/python3.10/dist-packages (from limits>=3.13->flask-limiter) (24.1)\n",
            "Requirement already satisfied: markdown-it-py>=2.2.0 in /usr/local/lib/python3.10/dist-packages (from rich<14,>=12->flask-limiter) (3.0.0)\n",
            "Requirement already satisfied: pygments<3.0.0,>=2.13.0 in /usr/local/lib/python3.10/dist-packages (from rich<14,>=12->flask-limiter) (2.16.1)\n",
            "Requirement already satisfied: wrapt<2,>=1.10 in /usr/local/lib/python3.10/dist-packages (from deprecated>=1.2->limits>=3.13->flask-limiter) (1.16.0)\n",
            "Requirement already satisfied: mdurl~=0.1 in /usr/local/lib/python3.10/dist-packages (from markdown-it-py>=2.2.0->rich<14,>=12->flask-limiter) (0.1.2)\n",
            " * Ngrok Tunnel URL: NgrokTunnel: \"https://ab34-34-141-143-223.ngrok-free.app\" -> \"http://localhost:5000\"\n",
            " * Serving Flask app '__main__'\n",
            " * Debug mode: off\n"
          ]
        },
        {
          "output_type": "stream",
          "name": "stderr",
          "text": [
            "INFO:werkzeug:\u001b[31m\u001b[1mWARNING: This is a development server. Do not use it in a production deployment. Use a production WSGI server instead.\u001b[0m\n",
            " * Running on http://127.0.0.1:5000\n",
            "INFO:werkzeug:\u001b[33mPress CTRL+C to quit\u001b[0m\n",
            "INFO:werkzeug:127.0.0.1 - - [26/Aug/2024 10:30:14] \"GET / HTTP/1.1\" 200 -\n",
            "INFO:werkzeug:127.0.0.1 - - [26/Aug/2024 10:30:15] \"\u001b[33mGET /favicon.ico HTTP/1.1\u001b[0m\" 404 -\n"
          ]
        }
      ],
      "source": [
        "# Install necessary libraries\n",
        "!pip install flask flask-limiter pyngrok\n",
        "\n",
        "# Import necessary modules\n",
        "from flask import Flask, request, jsonify\n",
        "from flask_limiter import Limiter\n",
        "from flask_limiter.util import get_remote_address\n",
        "from pyngrok import ngrok\n",
        "\n",
        "# Initialize Flask app\n",
        "app = Flask(__name__)\n",
        "ngrok.set_auth_token(\"2lByyY668AQEl2B574HOizPVWze_3roGxEj1UQdg2rXyx7tH8\")\n",
        "# Set up rate limiting\n",
        "limiter = Limiter(\n",
        "    get_remote_address,\n",
        "    app=app,\n",
        "    default_limits=[\"100 per day\", \"20 per hour\"]\n",
        ")\n",
        "\n",
        "# Custom middleware to modify IP headers and scramble tokens\n",
        "@app.before_request\n",
        "def modify_headers():\n",
        "    if 'Authorization' in request.headers:\n",
        "        token = request.headers['Authorization']\n",
        "        scrambled_token = scramble_function(token)\n",
        "        request.headers['Authorization'] = scrambled_token\n",
        "\n",
        "def scramble_function(token):\n",
        "    # Simple token scrambling (for demonstration)\n",
        "    return ''.join(reversed(token))\n",
        "\n",
        "# Define a sample endpoint\n",
        "@app.route('/login', methods=['POST'])\n",
        "@limiter.limit(\"5 per minute\")\n",
        "def login():\n",
        "    # Example login logic (would typically involve checking credentials)\n",
        "    return jsonify({\"message\": \"Login successful\"})\n",
        "\n",
        "# Define a sample data processing endpoint\n",
        "@app.route('/data', methods=['POST'])\n",
        "@limiter.limit(\"10 per minute\")\n",
        "def process_data():\n",
        "    data = request.json\n",
        "    # Example: Encrypt the data (here we're just returning it as-is)\n",
        "    return jsonify({\"data\": data})\n",
        "\n",
        "# Set up the home route\n",
        "@app.route(\"/\")\n",
        "def home():\n",
        "    return \"Hello from Colab with Flask, Ngrok, and Rate Limiting!\"\n",
        "\n",
        "# Start the Ngrok tunnel to expose the Flask app\n",
        "public_url = ngrok.connect(5000)\n",
        "print(\" * Ngrok Tunnel URL:\", public_url)\n",
        "\n",
        "# Run the Flask app\n",
        "app.run()\n"
      ]
    }
  ]
}